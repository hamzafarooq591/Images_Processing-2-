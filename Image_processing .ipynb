{
 "cells": [
  {
   "cell_type": "code",
   "execution_count": 1,
   "metadata": {},
   "outputs": [],
   "source": [
    "import numpy as np\n",
    "from PIL import Image \n",
    "import glob"
   ]
  },
  {
   "cell_type": "code",
   "execution_count": 2,
   "metadata": {},
   "outputs": [],
   "source": [
    "image_list =[]\n",
    "resized_image=[]"
   ]
  },
  {
   "cell_type": "code",
   "execution_count": 9,
   "metadata": {},
   "outputs": [],
   "source": [
    "def upload_images():\n",
    "    try:\n",
    "        for file_name in glob.glob('C:/Users/Hamza pc/*.jpg'):\n",
    "            img=Image.open(file_name)\n",
    "            image_list.append(img)\n",
    "    except IOError:print (\"Error: can\\'t find file or read data\")"
   ]
  },
  {
   "cell_type": "code",
   "execution_count": 10,
   "metadata": {},
   "outputs": [],
   "source": [
    "def convert_img():\n",
    "    try:\n",
    "        for image in image_list:\n",
    "            image=image.resize((200,200))\n",
    "            resized_image.append(image)\n",
    "    except ValueError as Argument:\n",
    "        print (\"The argument does not contain \\n\", Argument)"
   ]
  },
  {
   "cell_type": "code",
   "execution_count": 11,
   "metadata": {},
   "outputs": [],
   "source": [
    "def Save_img():\n",
    "    try :\n",
    "        for (i,new) in enumerate(resized_image):\n",
    "            new.save('{}{}{}'.format('C:/Users/Hamza pc/Desktop/photos/New_image',i+1,'.jpg'))\n",
    "    except Exception as err:print(\"Erro {}\".format(err))    \n",
    "            "
   ]
  },
  {
   "cell_type": "code",
   "execution_count": 12,
   "metadata": {},
   "outputs": [],
   "source": [
    "def img_to_array():\n",
    "    try:\n",
    "        for img1 in resized_image: \n",
    "            global new_image\n",
    "            new_image =np.array(img1)\n",
    "    except Exception as err:print(\"Erro {}\".format(err))    "
   ]
  },
  {
   "cell_type": "code",
   "execution_count": 21,
   "metadata": {},
   "outputs": [],
   "source": [
    "def main():\n",
    "    upload_images()\n",
    "    convert_img()\n",
    "    Save_img()\n",
    "    img_to_array()\n",
    "    print(\"Shape of numpy Array = \",new_image.shape)\n",
    "    print(\"Size of Numpy Array = \",new_image.size)\n",
    "    print(\"Indices are given \\n \",new_image[:,:,2])"
   ]
  },
  {
   "cell_type": "code",
   "execution_count": 23,
   "metadata": {},
   "outputs": [
    {
     "ename": "IndentationError",
     "evalue": "expected an indented block (<ipython-input-23-cf6f8d9fa639>, line 2)",
     "output_type": "error",
     "traceback": [
      "\u001b[1;36m  File \u001b[1;32m\"<ipython-input-23-cf6f8d9fa639>\"\u001b[1;36m, line \u001b[1;32m2\u001b[0m\n\u001b[1;33m    main()\u001b[0m\n\u001b[1;37m       ^\u001b[0m\n\u001b[1;31mIndentationError\u001b[0m\u001b[1;31m:\u001b[0m expected an indented block\n"
     ]
    }
   ],
   "source": [
    "if __name__=='__main__':\n",
    "    main()"
   ]
  },
  {
   "cell_type": "code",
   "execution_count": null,
   "metadata": {},
   "outputs": [],
   "source": []
  },
  {
   "cell_type": "code",
   "execution_count": 17,
   "metadata": {},
   "outputs": [],
   "source": []
  },
  {
   "cell_type": "code",
   "execution_count": null,
   "metadata": {},
   "outputs": [],
   "source": []
  }
 ],
 "metadata": {
  "kernelspec": {
   "display_name": "Python 3",
   "language": "python",
   "name": "python3"
  },
  "language_info": {
   "codemirror_mode": {
    "name": "ipython",
    "version": 3
   },
   "file_extension": ".py",
   "mimetype": "text/x-python",
   "name": "python",
   "nbconvert_exporter": "python",
   "pygments_lexer": "ipython3",
   "version": "3.7.3"
  }
 },
 "nbformat": 4,
 "nbformat_minor": 2
}
