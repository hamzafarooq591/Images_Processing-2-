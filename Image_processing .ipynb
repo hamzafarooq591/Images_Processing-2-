{
 "cells": [
  {
   "cell_type": "code",
   "execution_count": 1,
   "metadata": {},
   "outputs": [],
   "source": [
    "import numpy as np\n",
    "from PIL import Image \n",
    "import glob"
   ]
  },
  {
   "cell_type": "code",
   "execution_count": 2,
   "metadata": {},
   "outputs": [],
   "source": [
    "image_list =[]\n",
    "resized_image=[]"
   ]
  },
  {
   "cell_type": "code",
   "execution_count": 3,
   "metadata": {},
   "outputs": [],
   "source": [
    "def upload_images():\n",
    "    try:\n",
    "        for file_name in glob.glob('C:/Users/Hamza pc/*.jpg'):\n",
    "            img=Image.open(file_name)\n",
    "            image_list.append(img)\n",
    "    except IOError:print (\"Error: can\\'t find file or read data\")"
   ]
  },
  {
   "cell_type": "code",
   "execution_count": 4,
   "metadata": {},
   "outputs": [],
   "source": [
    "def convert_img():\n",
    "    try:\n",
    "        for image in image_list:\n",
    "            image=image.resize((200,200))\n",
    "            resized_image.append(image)\n",
    "    except ValueError as Argument:\n",
    "        print (\"The argument does not contain \\n\", Argument)"
   ]
  },
  {
   "cell_type": "code",
   "execution_count": 5,
   "metadata": {},
   "outputs": [],
   "source": [
    "def Save_img():\n",
    "    try :\n",
    "        for (i,new) in enumerate(resized_image):\n",
    "            new.save('{}{}{}'.format('C:/Users/Hamza pc/Desktop/photos/New_image',i+1,'.jpg'))\n",
    "    except Exception as err:print(\"Erro {}\".format(err))    \n",
    "            "
   ]
  },
  {
   "cell_type": "code",
   "execution_count": 6,
   "metadata": {},
   "outputs": [],
   "source": [
    "def img_to_array():\n",
    "    try:\n",
    "        for img1 in resized_image: \n",
    "            global new_image\n",
    "            new_image =np.array(img1)\n",
    "    except Exception as err:print(\"Erro {}\".format(err))    "
   ]
  },
  {
   "cell_type": "code",
   "execution_count": 7,
   "metadata": {},
   "outputs": [],
   "source": [
    "def main():\n",
    "    upload_images()\n",
    "    convert_img()\n",
    "    Save_img()\n",
    "    img_to_array()\n",
    "    print(\"Shape of numpy Array = \",new_image.shape)\n",
    "    print(\"Size of Numpy Array = \",new_image.size)\n",
    "    print(\"Indices are given \\n \",new_image[:,:,2])"
   ]
  },
  {
   "cell_type": "code",
   "execution_count": 10,
   "metadata": {},
   "outputs": [
    {
     "name": "stdout",
     "output_type": "stream",
     "text": [
      "Shape of numpy Array =  (200, 200, 3)\n",
      "Size of Numpy Array =  120000\n",
      "Indices are given \n",
      "  [[255 255 255 ... 181 187 194]\n",
      " [255 255 255 ... 181 187 194]\n",
      " [255 255 255 ... 167 173 177]\n",
      " ...\n",
      " [ 36  36  35 ... 244 248 247]\n",
      " [ 36  36  35 ... 241 245 245]\n",
      " [ 36  36  35 ... 241 245 245]]\n"
     ]
    }
   ],
   "source": [
    "if __name__=='__main__':\n",
    "    main()"
   ]
  },
  {
   "cell_type": "code",
   "execution_count": null,
   "metadata": {},
   "outputs": [],
   "source": []
  },
  {
   "cell_type": "code",
   "execution_count": 17,
   "metadata": {},
   "outputs": [],
   "source": []
  },
  {
   "cell_type": "code",
   "execution_count": null,
   "metadata": {},
   "outputs": [],
   "source": []
  }
 ],
 "metadata": {
  "kernelspec": {
   "display_name": "Python 3",
   "language": "python",
   "name": "python3"
  },
  "language_info": {
   "codemirror_mode": {
    "name": "ipython",
    "version": 3
   },
   "file_extension": ".py",
   "mimetype": "text/x-python",
   "name": "python",
   "nbconvert_exporter": "python",
   "pygments_lexer": "ipython3",
   "version": "3.7.3"
  }
 },
 "nbformat": 4,
 "nbformat_minor": 2
}
